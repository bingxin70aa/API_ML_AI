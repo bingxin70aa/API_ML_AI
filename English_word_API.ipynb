{
 "cells": [
  {
   "cell_type": "code",
   "execution_count": 1,
   "metadata": {
    "scrolled": true
   },
   "outputs": [
    {
     "name": "stdout",
     "output_type": "stream",
     "text": [
      "                {\n",
      "                  \"showapi_res_error\": \"\",\n",
      "                  \"showapi_res_id\": \"db81d6bc945a4c9091a15bcddae9fa3a\",\n",
      "                  \"showapi_res_code\": 0,\n",
      "                  \"showapi_res_body\": {\"ret_code\":0,\"list\":[{\"course\":5,\"class_id\":45090,\"desc\":\"vt. 钦佩；羡慕；欣赏\",\"symbol\":\"[ədˈmaiə]\",\"sound\":\"http://app1.showapi.com/en_word/45090_4509/58551807d02c4f2a86d5507bc319a52b.mp3\",\"name\":\"admire\",\"class_title\":\"四级必备词汇\"},{\"course\":5,\"class_id\":45090,\"desc\":\"n. 韵律；节奏\",\"symbol\":\"[ˈriðəm]\",\"sound\":\"http://app1.showapi.com/en_word/45090_4509/ee04730aca554be9ad7285fbbe5f93c8.mp3\",\"name\":\"rhythm\",\"class_title\":\"四级必备词汇\"},{\"course\":5,\"class_id\":45090,\"desc\":\"vt. 扩大，增加\",\"symbol\":\"[iksˈpænd]\",\"sound\":\"http://app1.showapi.com/en_word/45090_4509/a91fe373241d459c9ebc578dc4a3c617.mp3\",\"name\":\"expand\",\"class_title\":\"四级必备词汇\"},{\"course\":5,\"class_id\":45090,\"desc\":\"n. 毛巾，手巾\",\"symbol\":\"[ˈtauəl]\",\"sound\":\"http://app1.showapi.com/en_word/45090_4509/cdd7bb6c235842fdab12666bdddd6fdd.mp3\",\"name\":\"towel\",\"class_title\":\"四级必备词汇\"},{\"course\":5,\"class_id\":45090,\"desc\":\"n. 天气\",\"symbol\":\"[ˈweðə]\",\"sound\":\"http://app1.showapi.com/en_word/45090_4509/1c866ebf98c84563bd0ab078b4b0fc8d.mp3\",\"name\":\"weather\",\"class_title\":\"四级必备词汇\"},{\"course\":5,\"class_id\":45090,\"desc\":\"n. 法官；裁判员\",\"symbol\":\"[dʒʌdʒ]\",\"sound\":\"http://app1.showapi.com/en_word/45090_4509/0f7a31bf9f904267a3a1869574b636d2.mp3\",\"name\":\"judge\",\"class_title\":\"四级必备词汇\"},{\"course\":5,\"class_id\":45090,\"desc\":\"adj. 孩子的；幼稚的\",\"symbol\":\"[ˈtʃaɪldɪʃ]\",\"sound\":\"http://app1.showapi.com/en_word/45090_4509/107204691b74442a89ce64da58721aea.mp3\",\"name\":\"childish\",\"class_title\":\"四级必备词汇\"},{\"course\":5,\"class_id\":45090,\"desc\":\"vt. 悬挂，吊；绞死\",\"symbol\":\"[hæŋ]\",\"sound\":\"http://app1.showapi.com/en_word/45090_4509/604fb5bf066d40a79fbd1a50e574d724.mp3\",\"name\":\"hang\",\"class_title\":\"四级必备词汇\"},{\"course\":5,\"class_id\":45090,\"desc\":\"n. 稻米，大米\",\"symbol\":\"[rais]\",\"sound\":\"http://app1.showapi.com/en_word/45090_4509/e41760337d764d4dbbd5e3af54ed76f7.mp3\",\"name\":\"rice\",\"class_title\":\"四级必备词汇\"},{\"course\":5,\"class_id\":45090,\"desc\":\"n. 坚果，干果；螺母\",\"symbol\":\"[nʌt]\",\"sound\":\"http://app1.showapi.com/en_word/45090_4509/ca7c7066303e4e39ab88bfff3274f9b5.mp3\",\"name\":\"nut\",\"class_title\":\"四级必备词汇\"},{\"course\":5,\"class_id\":45090,\"desc\":\"adj. 陌生的；奇怪的\",\"symbol\":\"[streindʒ]\",\"sound\":\"http://app1.showapi.com/en_word/45090_4509/fcb1cc1229d64519a677564b77bbcb67.mp3\",\"name\":\"strange\",\"class_title\":\"四级必备词汇\"},{\"course\":5,\"class_id\":45090,\"desc\":\"vt. 背叛；辜负；流露出\",\"symbol\":\"[biˈtrei]\",\"sound\":\"http://app1.showapi.com/en_word/45090_4509/6702b516826949fca62dcc4dce430c76.mp3\",\"name\":\"betray\",\"class_title\":\"四级必备词汇\"},{\"course\":5,\"class_id\":45090,\"desc\":\"n. 火焰；怒火\",\"symbol\":\"[fleim]\",\"sound\":\"http://app1.showapi.com/en_word/45090_4509/26d1ba63745d42a393621b6ed307e8f0.mp3\",\"name\":\"flame\",\"class_title\":\"四级必备词汇\"},{\"course\":5,\"class_id\":45090,\"desc\":\"adj. 有活力的；动态的\",\"symbol\":\"[daiˈnæmik]\",\"sound\":\"http://app1.showapi.com/en_word/45090_4509/469e9b6b36b7457ab41aef6a6007f475.mp3\",\"name\":\"dynamic\",\"class_title\":\"四级必备词汇\"},{\"course\":5,\"class_id\":45090,\"desc\":\"n. 帽子，便帽；保护盖\",\"symbol\":\"[kæp]\",\"sound\":\"http://app1.showapi.com/en_word/45090_4509/b3b44c4ccaf14b368e82fba71011c948.mp3\",\"name\":\"cap\",\"class_title\":\"四级必备词汇\"},{\"course\":5,\"class_id\":45090,\"desc\":\"adv. 极其，非常\",\"symbol\":\"[iksˈtri:mli]\",\"sound\":\"http://app1.showapi.com/en_word/45090_4509/09559babcb1e4939b851a611cc7c9a92.mp3\",\"name\":\"extremely\",\"class_title\":\"四级必备词汇\"},{\"course\":5,\"class_id\":45090,\"desc\":\"n. 扫帚\",\"symbol\":\"[bru:m]\",\"sound\":\"http://app1.showapi.com/en_word/45090_4509/83ac3076c54144719ad0030f950213da.mp3\",\"name\":\"broom\",\"class_title\":\"四级必备词汇\"},{\"course\":5,\"class_id\":45090,\"desc\":\"vi. 打字\",\"symbol\":\"[taip]\",\"sound\":\"http://app1.showapi.com/en_word/45090_4509/c09439409a0344d5913b5e10e398f870.mp3\",\"name\":\"type\",\"class_title\":\"四级必备词汇\"},{\"course\":5,\"class_id\":45090,\"desc\":\"pron. 没有人；无人\",\"symbol\":\"[ˈnəubədi]\",\"sound\":\"http://app1.showapi.com/en_word/45090_4509/3ed98431e54141f6b4f099da63af692d.mp3\",\"name\":\"nobody\",\"class_title\":\"四级必备词汇\"},{\"course\":5,\"class_id\":45090,\"desc\":\"vt. 捆绑；装订；使紧密联系\",\"symbol\":\"[baind]\",\"sound\":\"http://app1.showapi.com/en_word/45090_4509/78deea9af52943b9a351a2893ca654cc.mp3\",\"name\":\"bind\",\"class_title\":\"四级必备词汇\"}]}\n",
      "                }\n",
      "                \n",
      "\n"
     ]
    }
   ],
   "source": [
    "# python3.6.5\n",
    "# 需要引入requests包 ：运行终端->进入python/Scripts ->输入：pip install requests\n",
    "from ShowapiRequest import ShowapiRequest\n",
    "\n",
    "r = ShowapiRequest(\"http://route.showapi.com/8-10\",\"my_appId\",\"my_appSecret\" )\n",
    "r.addBodyPara(\"class_id\", \"45090\")\n",
    "r.addBodyPara(\"course\", \"5\")\n",
    "# r.addFilePara(\"img\", r\"C:\\Users\\showa\\Desktop\\使用过的\\4.png\") #文件上传时设置\n",
    "res = r.post()\n",
    "print(res.text) # 返回信息\n"
   ]
  }
 ],
 "metadata": {
  "kernelspec": {
   "display_name": "Python 3",
   "language": "python",
   "name": "python3"
  },
  "language_info": {
   "codemirror_mode": {
    "name": "ipython",
    "version": 3
   },
   "file_extension": ".py",
   "mimetype": "text/x-python",
   "name": "python",
   "nbconvert_exporter": "python",
   "pygments_lexer": "ipython3",
   "version": "3.7.0"
  }
 },
 "nbformat": 4,
 "nbformat_minor": 2
}
